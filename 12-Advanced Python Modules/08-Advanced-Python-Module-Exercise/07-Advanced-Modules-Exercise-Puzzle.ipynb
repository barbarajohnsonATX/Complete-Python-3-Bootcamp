{
 "cells": [
  {
   "cell_type": "markdown",
   "metadata": {},
   "source": [
    "___\n",
    "\n",
    "<a href='https://www.udemy.com/user/joseportilla/'><img src='../../Pierian_Data_Logo.png'/></a>\n",
    "___\n",
    "<center><em>Content Copyright by Pierian Data</em></center>"
   ]
  },
  {
   "cell_type": "code",
   "execution_count": null,
   "metadata": {},
   "outputs": [],
   "source": []
  },
  {
   "cell_type": "markdown",
   "metadata": {},
   "source": [
    "# Advanced Modules Exercise Puzzle\n",
    "\n",
    "It's time to test your new skills, this puzzle project will combine multiple skills sets, including unzipping files with Python, using os module to automatically search through lots of files.\n",
    "\n",
    "## Your Goal\n",
    "\n",
    "This is a puzzle, so we don't want to give you too much guidance and instead have you figure out things on your own.\n",
    "\n",
    "There is a .zip file called 'unzip_me_for_instructions.zip', unzip it, open the .txt file with Python, read the instructions and see if you can figure out what you need to do!\n",
    "\n",
    "**If you get stuck or don't know where to start, here is a [guide/hints](https://docs.google.com/document/d/1JxydUr4n4fSR0EwwuwT-aHia-yPK6r-oTBuVT2sqheo/edit?usp=sharing)**"
   ]
  },
  {
   "cell_type": "code",
   "execution_count": 3,
   "metadata": {},
   "outputs": [
    {
     "data": {
      "text/plain": [
       "'/Users/barbarajohnson/Development/Code/Complete-Python-3-Bootcamp/12-Advanced Python Modules/08-Advanced-Python-Module-Exercise'"
      ]
     },
     "execution_count": 3,
     "metadata": {},
     "output_type": "execute_result"
    }
   ],
   "source": [
    "pwd\n"
   ]
  },
  {
   "cell_type": "code",
   "execution_count": 4,
   "metadata": {},
   "outputs": [
    {
     "name": "stdout",
     "output_type": "stream",
     "text": [
      "07-Advanced-Modules-Exercise-Puzzle.ipynb\r\n",
      "08-Advanced-Modules-Exercise-Solutions.ipynb\r\n",
      "\u001b[34mextracted_content\u001b[m\u001b[m/\r\n",
      "\u001b[34mtest\u001b[m\u001b[m/\r\n",
      "unzip_me_for_instructions.zip\r\n"
     ]
    }
   ],
   "source": [
    "ls"
   ]
  },
  {
   "cell_type": "code",
   "execution_count": 5,
   "metadata": {},
   "outputs": [],
   "source": [
    " current_dir = '/Users/barbarajohnson/Development/Code/Complete-Python-3-Bootcamp/12-Advanced Python Modules/08-Advanced-Python-Module-Exercise/test/'"
   ]
  },
  {
   "cell_type": "code",
   "execution_count": 6,
   "metadata": {},
   "outputs": [],
   "source": [
    "import shutil\n",
    "filename = 'unzip_me_for_instructions.zip'\n",
    "shutil.unpack_archive(filename, current_dir, 'zip')"
   ]
  },
  {
   "cell_type": "code",
   "execution_count": 7,
   "metadata": {},
   "outputs": [
    {
     "name": "stdout",
     "output_type": "stream",
     "text": [
      "07-Advanced-Modules-Exercise-Puzzle.ipynb\r\n",
      "08-Advanced-Modules-Exercise-Solutions.ipynb\r\n",
      "\u001b[34mextracted_content\u001b[m\u001b[m/\r\n",
      "\u001b[34mtest\u001b[m\u001b[m/\r\n",
      "unzip_me_for_instructions.zip\r\n"
     ]
    }
   ],
   "source": [
    "ls\n"
   ]
  },
  {
   "cell_type": "code",
   "execution_count": 8,
   "metadata": {},
   "outputs": [],
   "source": [
    "import os"
   ]
  },
  {
   "cell_type": "code",
   "execution_count": 9,
   "metadata": {},
   "outputs": [
    {
     "data": {
      "text/plain": [
       "'/Users/barbarajohnson/Development/Code/Complete-Python-3-Bootcamp/12-Advanced Python Modules/08-Advanced-Python-Module-Exercise'"
      ]
     },
     "execution_count": 9,
     "metadata": {},
     "output_type": "execute_result"
    }
   ],
   "source": [
    "os.getcwd()"
   ]
  },
  {
   "cell_type": "code",
   "execution_count": 10,
   "metadata": {},
   "outputs": [
    {
     "name": "stdout",
     "output_type": "stream",
     "text": [
      "/Users/barbarajohnson/Development/Code/Complete-Python-3-Bootcamp/12-Advanced Python Modules/08-Advanced-Python-Module-Exercise/test\n"
     ]
    }
   ],
   "source": [
    "cd test\n"
   ]
  },
  {
   "cell_type": "code",
   "execution_count": 11,
   "metadata": {},
   "outputs": [
    {
     "data": {
      "text/plain": [
       "'/Users/barbarajohnson/Development/Code/Complete-Python-3-Bootcamp/12-Advanced Python Modules/08-Advanced-Python-Module-Exercise/test'"
      ]
     },
     "execution_count": 11,
     "metadata": {},
     "output_type": "execute_result"
    }
   ],
   "source": [
    "os.getcwd()"
   ]
  },
  {
   "cell_type": "code",
   "execution_count": 12,
   "metadata": {},
   "outputs": [
    {
     "data": {
      "text/plain": [
       "['extracted_content']"
      ]
     },
     "execution_count": 12,
     "metadata": {},
     "output_type": "execute_result"
    }
   ],
   "source": [
    "os.listdir()"
   ]
  },
  {
   "cell_type": "code",
   "execution_count": 13,
   "metadata": {},
   "outputs": [
    {
     "name": "stdout",
     "output_type": "stream",
     "text": [
      "/Users/barbarajohnson/Development/Code/Complete-Python-3-Bootcamp/12-Advanced Python Modules/08-Advanced-Python-Module-Exercise/test/extracted_content\n"
     ]
    }
   ],
   "source": [
    "cd extracted_content/\n"
   ]
  },
  {
   "cell_type": "code",
   "execution_count": 14,
   "metadata": {},
   "outputs": [
    {
     "data": {
      "text/plain": [
       "['Instructions.txt', 'Three', 'One', 'Two', 'Five', 'Four']"
      ]
     },
     "execution_count": 14,
     "metadata": {},
     "output_type": "execute_result"
    }
   ],
   "source": [
    "os.listdir()"
   ]
  },
  {
   "cell_type": "code",
   "execution_count": 15,
   "metadata": {},
   "outputs": [],
   "source": [
    "import re\n"
   ]
  },
  {
   "cell_type": "code",
   "execution_count": 16,
   "metadata": {},
   "outputs": [],
   "source": [
    "pattern = r'\\d{3}-\\d{3}-\\d{4}'"
   ]
  },
  {
   "cell_type": "code",
   "execution_count": 17,
   "metadata": {},
   "outputs": [
    {
     "name": "stdout",
     "output_type": "stream",
     "text": [
      "/Users/barbarajohnson/Development/Code/Complete-Python-3-Bootcamp/12-Advanced Python Modules/08-Advanced-Python-Module-Exercise/test/extracted_content/One\n"
     ]
    }
   ],
   "source": [
    "cd One\n"
   ]
  },
  {
   "cell_type": "code",
   "execution_count": 18,
   "metadata": {},
   "outputs": [
    {
     "name": "stdout",
     "output_type": "stream",
     "text": [
      "HDOHZHFSTTK.txt  JLTXKIGCWDL.txt  KTXDHIOKAUI.txt  PHWAVPEKAER.txt\r\n",
      "HFUTPPAXDIS.txt  JQUOBKFUACN.txt  LDGOCUQJNNS.txt  PLYCGPVEAWO.txt\r\n",
      "HMNZTLIFGPD.txt  JTHSNBNPQSE.txt  LFEATJAAYDC.txt  PQNVCVJINAR.txt\r\n",
      "HRQFTHKVJTL.txt  KCXGNQCZBLO.txt  LHODFIKVTQA.txt  PTOBBCJYURJ.txt\r\n",
      "HVUTZEVMSBW.txt  KFIUZFERLET.txt  LIFDHOFKWOI.txt\r\n",
      "JDLRVFCXYLU.txt  KMMLGJOWLGI.txt  LPNDVDXPZIG.txt\r\n",
      "JEHBLZPUPSP.txt  KNBSKDREHQU.txt  PDJMSMNKIRM.txt\r\n"
     ]
    }
   ],
   "source": [
    "ls "
   ]
  },
  {
   "cell_type": "code",
   "execution_count": 19,
   "metadata": {},
   "outputs": [],
   "source": [
    "files_one = os.listdir()"
   ]
  },
  {
   "cell_type": "code",
   "execution_count": 20,
   "metadata": {},
   "outputs": [
    {
     "data": {
      "text/plain": [
       "['LFEATJAAYDC.txt',\n",
       " 'KCXGNQCZBLO.txt',\n",
       " 'KFIUZFERLET.txt',\n",
       " 'LIFDHOFKWOI.txt',\n",
       " 'HRQFTHKVJTL.txt',\n",
       " 'PLYCGPVEAWO.txt',\n",
       " 'JEHBLZPUPSP.txt',\n",
       " 'PDJMSMNKIRM.txt',\n",
       " 'LPNDVDXPZIG.txt',\n",
       " 'HMNZTLIFGPD.txt',\n",
       " 'KNBSKDREHQU.txt',\n",
       " 'KTXDHIOKAUI.txt',\n",
       " 'JQUOBKFUACN.txt',\n",
       " 'HFUTPPAXDIS.txt',\n",
       " 'PTOBBCJYURJ.txt',\n",
       " 'LHODFIKVTQA.txt',\n",
       " 'JLTXKIGCWDL.txt',\n",
       " 'HDOHZHFSTTK.txt',\n",
       " 'KMMLGJOWLGI.txt',\n",
       " 'JDLRVFCXYLU.txt',\n",
       " 'PHWAVPEKAER.txt',\n",
       " 'LDGOCUQJNNS.txt',\n",
       " 'JTHSNBNPQSE.txt',\n",
       " 'HVUTZEVMSBW.txt',\n",
       " 'PQNVCVJINAR.txt']"
      ]
     },
     "execution_count": 20,
     "metadata": {},
     "output_type": "execute_result"
    }
   ],
   "source": [
    "files_one"
   ]
  },
  {
   "cell_type": "code",
   "execution_count": 21,
   "metadata": {},
   "outputs": [],
   "source": [
    "f = open('LFEATJAAYDC.txt', 'r')"
   ]
  },
  {
   "cell_type": "code",
   "execution_count": 22,
   "metadata": {},
   "outputs": [],
   "source": [
    "filetext = f.read()\n"
   ]
  },
  {
   "cell_type": "code",
   "execution_count": 23,
   "metadata": {},
   "outputs": [],
   "source": [
    "matches = re.findall(\"pattern\", filetext)\n"
   ]
  },
  {
   "cell_type": "code",
   "execution_count": 24,
   "metadata": {},
   "outputs": [
    {
     "data": {
      "text/plain": [
       "'Primis consetetur.Lobortisetiam amet eleifend bibendumin sollicitudin no.Fermentumfusce massa bibendumin nulla arcumorbi lobortisetiam.Bibendum inceptos minulla, libero maecenas elitr leopraesent et nostra.Quisaenean elementum.Nullamauris pellentesque laoreet dapibusnam enim.Elementum elit feugait nobis ipsum nisi fringilla, inceptos fames eratproin sem nullam.Telluspraesent erosin donec rutrum amet.Mi rhoncusmaecenas consetetur, sociosqu arcumorbi porta bibendum mollis assum.Eum sagittis eos at odio, laoreet autem a no ullamcorper dolore.Dolores habitant labore fermentum illum placerat.Tation tempor variuscras veniam curabitur, luctus augue dolor esse facilisi.Porttitor aliquammauris ante ipsum stet taciti, consequat sem erat bibendumfusce hac sodalessed.Tristique justocras egestasmauris sociosqu, cursus diaminteger litora nondonec.Nisi curae doming.Id sodalessed penatibus rutrum etiam, magnapraesent ac elitnunc bibendumfusce possim nihil mi variuscras eros.Dictum nequeetiam egestas tempus eu, felissed kasd dictumst convallis sem.Purus gubergren sodales sed dictumst vestibulumnulla vitae, velit egestasmauris pharetra liber laoreet ut facilisi.No ullamcorper nec convallis mazim, feugiat a senectus.Proin per pulvinar duis.Leopraesent purusvestibulum suscipit cras, vitae quam dictum malesuada quisaenean liberoduis lacusut eum.Lacusnulla stet imperdiet ipsum purusvestibulum iaculis, sociosqu voluptua enim nisised dolore velit.Parturient eos.Potenti zzril imperdiet.Aliquyam sociis facilisisproin stet torquent tortorcurabitur, nullamauris eum rhoncusmaecenas a felis delenit.Dictumstvivamus dictum suspendisse in hendrerit pellentesque, natoque vero habitasse molestie magnainteger.Aliquet aenean sociis veniam tation enimnulla dolores, rebum egestasmauris vitae lacusnulla sagittis quisque etiam dis.Urnapraesent nibh senectus nunccurabitur quammaecenas orci parturient invidunt, libero aliquam quam elit fermentum praesent mus.Bibendumin aliquet condimentum vestibulum, duo justo orci rhoncusmaecenas felis consectetur justocras tortorvestibulum.Felissed aliquam purusvestibulum gubergren, no aaenean justocras nulla invidunt ultrices dictumst lectus.Potenti quisque.Magna, cras ipsumcurabitur gravida nullam ante volutpat.Maecenas et class sedfusce, telluspraesent interdum viverra senectus option ultricies nascetur.Pellentesque adipiscing feliscras tortorvestibulum lobortisetiam, platea stet bibendumfusce minim consecteturpraesent.Interdumdonec maecenas in mazim.Nibh ullamcorper dolore morbi.Amet option ipsuminteger.Feliscras lectusnullam etiam facilisisat, posuere quis auctormauris consequat ullamcorper eirmod.Consecteturpraesent clita diaminteger donec metusdonec autem semper, nostra kasd lobortis option nonummy class.Placerat sea habitasse massapellentesque, nostrud orci nam scelerisque.Iaculis telluspraesent nascetur per iusto ipsuminteger accumsannulla, mazim sed turpis velit primis odio.Ipsum ex accusam a lacusnulla mazim semper, autem fermentum turpis tellus te mipellentesque.At volutpatut, fermentum nobis stet quisque habitasse feugait himenaeos.Ad duimauris aaenean lacus, scelerisque tincidunt antesuspendisse doming.Dis sed molestie, egestasmauris hac metus curabitur eum illum tempus.Magnapraesent ridiculus semper congue wisi mus dapibusnam, sodales felissed doming duo hac nisi.Posuere faucibus autem purusvestibulum pharetra, a ornare duo odio torquent arcumorbi.Sedfusce integer posuere magnis, senectus bibendum nullasuspendisse lobortis facilisisat.Ultriciespellentesque temporsuspendisse soluta, turpis auctor eros augue nequeetiam mollis.Minulla consetetur leo et vivamus consequat.'"
      ]
     },
     "execution_count": 24,
     "metadata": {},
     "output_type": "execute_result"
    }
   ],
   "source": [
    "filetext"
   ]
  },
  {
   "cell_type": "code",
   "execution_count": 25,
   "metadata": {},
   "outputs": [
    {
     "data": {
      "text/plain": [
       "[]"
      ]
     },
     "execution_count": 25,
     "metadata": {},
     "output_type": "execute_result"
    }
   ],
   "source": [
    "matches"
   ]
  },
  {
   "cell_type": "code",
   "execution_count": 26,
   "metadata": {},
   "outputs": [],
   "source": [
    "f.close()"
   ]
  },
  {
   "cell_type": "code",
   "execution_count": 27,
   "metadata": {},
   "outputs": [
    {
     "name": "stdout",
     "output_type": "stream",
     "text": [
      "HDOHZHFSTTK.txt  JLTXKIGCWDL.txt  KTXDHIOKAUI.txt  PHWAVPEKAER.txt\r\n",
      "HFUTPPAXDIS.txt  JQUOBKFUACN.txt  LDGOCUQJNNS.txt  PLYCGPVEAWO.txt\r\n",
      "HMNZTLIFGPD.txt  JTHSNBNPQSE.txt  LFEATJAAYDC.txt  PQNVCVJINAR.txt\r\n",
      "HRQFTHKVJTL.txt  KCXGNQCZBLO.txt  LHODFIKVTQA.txt  PTOBBCJYURJ.txt\r\n",
      "HVUTZEVMSBW.txt  KFIUZFERLET.txt  LIFDHOFKWOI.txt\r\n",
      "JDLRVFCXYLU.txt  KMMLGJOWLGI.txt  LPNDVDXPZIG.txt\r\n",
      "JEHBLZPUPSP.txt  KNBSKDREHQU.txt  PDJMSMNKIRM.txt\r\n"
     ]
    }
   ],
   "source": [
    "ls\n"
   ]
  },
  {
   "cell_type": "code",
   "execution_count": 28,
   "metadata": {},
   "outputs": [],
   "source": [
    "matched_list = []"
   ]
  },
  {
   "cell_type": "code",
   "execution_count": 29,
   "metadata": {},
   "outputs": [],
   "source": [
    "pattern = r'\\d{3}-\\d{3}-\\d{4}'\n",
    "matched_list = []\n",
    "\n",
    "for f in files_one:\n",
    "    file=open(f, 'r')\n",
    "    filetext = file.read() \n",
    "    matched_list += re.findall(pattern, filetext)\n",
    "    file.close()\n",
    "    \n",
    "\n",
    "    "
   ]
  },
  {
   "cell_type": "code",
   "execution_count": 30,
   "metadata": {},
   "outputs": [
    {
     "data": {
      "text/plain": [
       "'/Users/barbarajohnson/Development/Code/Complete-Python-3-Bootcamp/12-Advanced Python Modules/08-Advanced-Python-Module-Exercise/test/extracted_content/One'"
      ]
     },
     "execution_count": 30,
     "metadata": {},
     "output_type": "execute_result"
    }
   ],
   "source": [
    "pwd"
   ]
  },
  {
   "cell_type": "code",
   "execution_count": 31,
   "metadata": {},
   "outputs": [
    {
     "name": "stdout",
     "output_type": "stream",
     "text": [
      "/Users/barbarajohnson/Development/Code/Complete-Python-3-Bootcamp/12-Advanced Python Modules/08-Advanced-Python-Module-Exercise/test/extracted_content/Two\n"
     ]
    }
   ],
   "source": [
    "cd ../Two"
   ]
  },
  {
   "cell_type": "code",
   "execution_count": 32,
   "metadata": {},
   "outputs": [],
   "source": [
    "pattern = r'\\d{3}-\\d{3}-\\d{4}'\n",
    "matched_list = []\n",
    "\n",
    "for f in os.listdir():\n",
    "    file=open(f, 'r')\n",
    "    filetext = file.read() \n",
    "    matched_list += re.findall(pattern, filetext)\n",
    "    file.close()"
   ]
  },
  {
   "cell_type": "code",
   "execution_count": 33,
   "metadata": {},
   "outputs": [
    {
     "data": {
      "text/plain": [
       "[]"
      ]
     },
     "execution_count": 33,
     "metadata": {},
     "output_type": "execute_result"
    }
   ],
   "source": [
    "matched_list"
   ]
  },
  {
   "cell_type": "code",
   "execution_count": 34,
   "metadata": {},
   "outputs": [
    {
     "data": {
      "text/plain": [
       "'/Users/barbarajohnson/Development/Code/Complete-Python-3-Bootcamp/12-Advanced Python Modules/08-Advanced-Python-Module-Exercise/test/extracted_content/Two'"
      ]
     },
     "execution_count": 34,
     "metadata": {},
     "output_type": "execute_result"
    }
   ],
   "source": [
    "pwd\n"
   ]
  },
  {
   "cell_type": "code",
   "execution_count": 35,
   "metadata": {},
   "outputs": [
    {
     "name": "stdout",
     "output_type": "stream",
     "text": [
      "/Users/barbarajohnson/Development/Code/Complete-Python-3-Bootcamp/12-Advanced Python Modules/08-Advanced-Python-Module-Exercise/test/extracted_content\n"
     ]
    }
   ],
   "source": [
    "cd ..\n"
   ]
  },
  {
   "cell_type": "code",
   "execution_count": 36,
   "metadata": {},
   "outputs": [
    {
     "data": {
      "text/plain": [
       "'/Users/barbarajohnson/Development/Code/Complete-Python-3-Bootcamp/12-Advanced Python Modules/08-Advanced-Python-Module-Exercise/test/extracted_content'"
      ]
     },
     "execution_count": 36,
     "metadata": {},
     "output_type": "execute_result"
    }
   ],
   "source": [
    "pwd"
   ]
  },
  {
   "cell_type": "code",
   "execution_count": 37,
   "metadata": {},
   "outputs": [
    {
     "name": "stdout",
     "output_type": "stream",
     "text": [
      "/Users/barbarajohnson/Development/Code/Complete-Python-3-Bootcamp/12-Advanced Python Modules/08-Advanced-Python-Module-Exercise/test\n"
     ]
    }
   ],
   "source": [
    "cd .."
   ]
  },
  {
   "cell_type": "code",
   "execution_count": 38,
   "metadata": {},
   "outputs": [
    {
     "name": "stdout",
     "output_type": "stream",
     "text": [
      "/Users/barbarajohnson/Development/Code/Complete-Python-3-Bootcamp/12-Advanced Python Modules/08-Advanced-Python-Module-Exercise/test/extracted_content\n"
     ]
    }
   ],
   "source": [
    "cd extracted_content/"
   ]
  },
  {
   "cell_type": "code",
   "execution_count": 39,
   "metadata": {},
   "outputs": [
    {
     "name": "stdout",
     "output_type": "stream",
     "text": [
      "/Users/barbarajohnson/Development/Code/Complete-Python-3-Bootcamp/12-Advanced Python Modules/08-Advanced-Python-Module-Exercise/test\n"
     ]
    }
   ],
   "source": [
    "cd .."
   ]
  },
  {
   "cell_type": "code",
   "execution_count": 40,
   "metadata": {},
   "outputs": [
    {
     "name": "stdout",
     "output_type": "stream",
     "text": [
      "<generator object walk at 0x7f9d43f9a040>\n"
     ]
    }
   ],
   "source": [
    "print(os.walk('extracted_content'))\n"
   ]
  },
  {
   "cell_type": "code",
   "execution_count": 42,
   "metadata": {},
   "outputs": [
    {
     "name": "stdout",
     "output_type": "stream",
     "text": [
      "Currently looking at folder: /Users/barbarajohnson/Development/Code/Complete-Python-3-Bootcamp/12-Advanced Python Modules/08-Advanced-Python-Module-Exercise/test/extracted_content\n",
      "\n",
      "\n",
      "Currently looking at folder: /Users/barbarajohnson/Development/Code/Complete-Python-3-Bootcamp/12-Advanced Python Modules/08-Advanced-Python-Module-Exercise/test/extracted_content/Three\n",
      "\n",
      "\n",
      "Currently looking at folder: /Users/barbarajohnson/Development/Code/Complete-Python-3-Bootcamp/12-Advanced Python Modules/08-Advanced-Python-Module-Exercise/test/extracted_content/One\n",
      "\n",
      "\n",
      "Currently looking at folder: /Users/barbarajohnson/Development/Code/Complete-Python-3-Bootcamp/12-Advanced Python Modules/08-Advanced-Python-Module-Exercise/test/extracted_content/Two\n",
      "\n",
      "\n",
      "Currently looking at folder: /Users/barbarajohnson/Development/Code/Complete-Python-3-Bootcamp/12-Advanced Python Modules/08-Advanced-Python-Module-Exercise/test/extracted_content/Five\n",
      "\n",
      "\n",
      "Currently looking at folder: /Users/barbarajohnson/Development/Code/Complete-Python-3-Bootcamp/12-Advanced Python Modules/08-Advanced-Python-Module-Exercise/test/extracted_content/Four\n",
      "Found phone number in EMTGPSXQEJX.txt!!!\n",
      "\n",
      "\n",
      "['719-266-2837']\n"
     ]
    }
   ],
   "source": [
    "\n",
    "matched_list = []\n",
    "pattern = r'\\d{3}-\\d{3}-\\d{4}'\n",
    "mydir = '/Users/barbarajohnson/Development/Code/Complete-Python-3-Bootcamp/12-Advanced Python Modules/08-Advanced-Python-Module-Exercise/test/extracted_content'\n",
    "\n",
    "for folder, sub_folders, files in os.walk(mydir):\n",
    "\n",
    "        print(\"Currently looking at folder: \"+ folder)\n",
    "\n",
    "        for f in files:\n",
    "            #print(\"\\t File: \"+f)\n",
    "            file=open(os.path.join(folder, f), 'r')\n",
    "            filetext = file.read() \n",
    "            found = re.findall(pattern, filetext)\n",
    "            if found:\n",
    "                print(f\"Found phone number in {f}!!!\")\n",
    "            matched_list += found\n",
    "            file.close()\n",
    "\n",
    "\n",
    "        print('\\n')\n",
    "         \n",
    "print(matched_list)"
   ]
  },
  {
   "cell_type": "code",
   "execution_count": 43,
   "metadata": {},
   "outputs": [
    {
     "data": {
      "text/plain": [
       "['719-266-2837']"
      ]
     },
     "execution_count": 43,
     "metadata": {},
     "output_type": "execute_result"
    }
   ],
   "source": [
    " matched_list"
   ]
  },
  {
   "cell_type": "code",
   "execution_count": null,
   "metadata": {},
   "outputs": [],
   "source": []
  }
 ],
 "metadata": {
  "anaconda-cloud": {},
  "kernelspec": {
   "display_name": "Python 3",
   "language": "python",
   "name": "python3"
  },
  "language_info": {
   "codemirror_mode": {
    "name": "ipython",
    "version": 3
   },
   "file_extension": ".py",
   "mimetype": "text/x-python",
   "name": "python",
   "nbconvert_exporter": "python",
   "pygments_lexer": "ipython3",
   "version": "3.8.5"
  }
 },
 "nbformat": 4,
 "nbformat_minor": 2
}
